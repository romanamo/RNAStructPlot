{
 "cells": [
  {
   "cell_type": "code",
   "execution_count": 37,
   "id": "60dc4a5c",
   "metadata": {},
   "outputs": [
    {
     "data": {
      "text/plain": [
       "{21, 26} undirected simple Int64 graph"
      ]
     },
     "metadata": {},
     "output_type": "display_data"
    }
   ],
   "source": [
    "using Graphs\n",
    "using DocStringExtensions\n",
    "using CairoMakie\n",
    "using Revise\n",
    "using RNAStructPlot\n",
    "using LinearAlgebra\n",
    "\n",
    "g = dotbracket(\n",
    "    \"UAAUGAUAUGGUUUGGGAGUU\", \n",
    "    \"((((((.........))))))\"\n",
    ")"
   ]
  },
  {
   "cell_type": "code",
   "execution_count": null,
   "id": "0c0ebfae",
   "metadata": {},
   "outputs": [],
   "source": [
    "using CairoMakie\n",
    "using Graphs\n",
    "\n",
    "function draw_arcs(g, seq)\n",
    "    f = Figure()\n",
    "    ax = Axis(f[1,1])\n",
    "\n",
    "    for e in edges(g)\n",
    "        radius = abs(src(e)-dst(e))\n",
    "        if radius > 1\n",
    "            color = seq[src(e)] in ['U', 'A'] ? :blue : :red\n",
    "            arc!(Point2f(dst(e)-radius/2, 0), radius/2, 0, pi, color=color)\n",
    "        else\n",
    "            lines!([src(e), dst(e)], [0, 0], color=:green)\n",
    "        end\n",
    "    end\n",
    "\n",
    "    scatter!(vertices(g), repeat([0], length(vertices(g))))\n",
    "\n",
    "    for v in vertices(g)\n",
    "        text!(v, -0.5,text=string(seq[v]),align=(:center, :top),fontsize=1/length(vertices(g)),markerspace=:relative)\n",
    "    end\n",
    "    \n",
    "    hidedecorations!(ax)\n",
    "    hidespines!(ax)\n",
    "    \n",
    "    current_figure()\n",
    "end"
   ]
  },
  {
   "cell_type": "code",
   "execution_count": null,
   "id": "38c99cb9",
   "metadata": {},
   "outputs": [],
   "source": [
    "draw_arcs(g, \"CGCUUCAUAUAAUCCUAAUGAUAUGGUUUGGGAGUUUCUACCAAGAGCCUUAAACUCUUGAUUAUGAAGUG\")"
   ]
  }
 ],
 "metadata": {
  "kernelspec": {
   "display_name": "Julia 1.11.5",
   "language": "julia",
   "name": "julia-1.11"
  },
  "language_info": {
   "file_extension": ".jl",
   "mimetype": "application/julia",
   "name": "julia",
   "version": "1.11.5"
  }
 },
 "nbformat": 4,
 "nbformat_minor": 5
}
