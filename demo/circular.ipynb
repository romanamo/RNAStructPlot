{
 "cells": [
  {
   "cell_type": "code",
   "execution_count": 3,
   "id": "cdd6004c",
   "metadata": {},
   "outputs": [
    {
     "name": "stderr",
     "output_type": "stream",
     "text": [
      "WARNING: Method definition (::Type{RNAStructPlot.DrawResult})(Base.Dict{K, V} where V where K, Base.Dict{K, V} where V where K) in module RNAStructPlot at c:\\Users\\Roman\\.julia\\dev\\RNAStructPlot\\src\\data.jl:2 overwritten on the same line (check for duplicate calls to `include`).\n",
      "ERROR: Method overwriting is not permitted during Module precompilation. Use `__precompile__(false)` to opt-out of precompilation.\n"
     ]
    },
    {
     "data": {
      "text/plain": [
       "RNABaseGraph(SimpleGraph{Int64}(89, [[2], [1, 3], [2, 4], [3, 5, 68], [4, 6, 67], [5, 7, 66], [6, 8, 65], [7, 9, 64], [8, 10, 63], [9, 11, 40]  …  [61, 63], [9, 62, 64], [8, 63, 65], [7, 64, 66], [6, 65, 67], [5, 66, 68], [4, 67, 69], [68, 70], [69, 71], [70]]), Dict{Any, Char}(5 => 'U', 56 => 'U', 16 => 'U', 20 => 'G', 35 => 'U', 55 => 'C', 60 => 'G', 30 => 'G', 19 => 'U', 32 => 'G'…), Dict{Any, Any}(5 => 67, 16 => 30, 7 => 65, 46 => 56, 8 => 64, 17 => 29, 47 => 55, 6 => 66, 43 => 59, 45 => 57…))"
      ]
     },
     "metadata": {},
     "output_type": "display_data"
    }
   ],
   "source": [
    "using Graphs\n",
    "using DocStringExtensions\n",
    "using CairoMakie\n",
    "using RNAStructPlot\n",
    "using LinearAlgebra\n",
    "\n",
    "sequence = \"CGCUUCAUAUAAUCCUAAUGAUAUGGUUUGGGAGUUUCUACCAAGAGCCUUAAACUCUUGAUUAUGAAGUG\"\n",
    "notation = \"...(((((((..((((((.........))))))......).((((((.......))))))..))))))...\"\n",
    "\n",
    "rnabase = dotbracketbase(\n",
    "    sequence, \n",
    "    notation\n",
    ")"
   ]
  },
  {
   "cell_type": "code",
   "execution_count": 2,
   "id": "26dd575a",
   "metadata": {},
   "outputs": [
    {
     "data": {
      "text/plain": [
       "draw_generic (generic function with 1 method)"
      ]
     },
     "metadata": {},
     "output_type": "display_data"
    }
   ],
   "source": [
    "function draw_generic(\n",
    "    rnastruct::RNABaseGraph, drawresult::DrawResult;\n",
    "    basecolors=Dict('A' => :red,'G' => :cyan,'C' => :yellow,'U' => :lime),\n",
    "    bondcolor=:red,\n",
    "    showstrength=true,\n",
    "    shownumberings=true,\n",
    "    showstart=true\n",
    ")\n",
    "\n",
    "    graph = rnastruct.graph\n",
    "    bases = rnastruct.nucleotides\n",
    "\n",
    "    coords = drawresult.coords\n",
    "    numberings = drawresult.numberings\n",
    "\n",
    "    f = Figure()\n",
    "    ax = Axis(f[1,1], aspect = DataAspect())\n",
    "\n",
    "    # draw edges\n",
    "    for e in edges(graph)\n",
    "        sx, sy = coords[src(e)]\n",
    "        dx, dy = coords[dst(e)]\n",
    "\n",
    "        # change style if bases are paired\n",
    "        ispair = haspair(rnastruct, src(e), dst(e))\n",
    "        edgecolor = ispair ? bondcolor : :black\n",
    "        strength = showstrength && ispair ? bondstrength(rnastruct, src(e), dst(e)) : 0\n",
    "\n",
    "        lines!([sx, dx], [sy, dy];linestyle=(:dash, strength^1.8),color=edgecolor)\n",
    "    end\n",
    "\n",
    "    # draw vertices with specified coloring\n",
    "    xs = [coords[v][1] for v in vertices(graph)]\n",
    "    ys = [coords[v][2] for v in vertices(graph)]\n",
    "    colors = [basecolors[bases[v]] for v in vertices(graph)]\n",
    "    scatter!(xs, ys, markersize=20, color=colors)\n",
    "\n",
    "    # draw nucleotide base labels\n",
    "    for v in vertices(graph)\n",
    "        text!(coords[v][1], coords[v][2] ,text=string(bases[v]),align=(:center, :center))\n",
    "    end\n",
    "    # draw numbering labels if enabled\n",
    "    if shownumberings\n",
    "        for i in vcat([1], range(0,nv(graph), step=5))\n",
    "            if has_vertex(graph, i) && haskey(coords, i)\n",
    "                text!(numberings[i][1], numberings[i][2],text=string(i),align=(:center, :center))\n",
    "            end\n",
    "        end\n",
    "    end\n",
    "    # draw starting arrow pointing to first base in sequence if enabled\n",
    "    if showstart\n",
    "        curve = bezier1(coords[1], numberings[1])\n",
    "        tipx, tipy = arrowtip = curve(0.3)\n",
    "        tailx, taily = arrowtail = curve(0.8)\n",
    "        arrows2d!([tailx], [taily], [tipx-tailx], [tipy-taily])\n",
    "    end\n",
    "    hidespines!(ax)\n",
    "    hidedecorations!(ax)\n",
    "    current_figure()\n",
    "end"
   ]
  },
  {
   "cell_type": "code",
   "execution_count": 2,
   "id": "51bd0c0a",
   "metadata": {},
   "outputs": [
    {
     "ename": "UndefVarError",
     "evalue": "UndefVarError: `RNABaseGraph` not defined in `Main`\nSuggestion: check for spelling errors or missing imports.",
     "output_type": "error",
     "traceback": [
      "UndefVarError: `RNABaseGraph` not defined in `Main`\n",
      "Suggestion: check for spelling errors or missing imports.\n",
      "\n",
      "Stacktrace:\n",
      " [1] top-level scope\n",
      "   @ c:\\Users\\Roman\\.julia\\dev\\RNAStructPlot\\demo\\jl_notebook_cell_df34fa98e69747e1a8f8a730347b8e2f_W2sZmlsZQ==.jl:1"
     ]
    }
   ],
   "source": [
    "function layoutcircular(rnabase::RNABaseGraph)\n",
    "    graph = rnabase.graph\n",
    "    coords = Dict()\n",
    "    numberings = Dict()\n",
    "\n",
    "    # walk along circle\n",
    "    for (i, vertex) in enumerate(vertices(graph))\n",
    "        x = (i-1)/nv(graph) * 2 * pi\n",
    "        coords[vertex] = [cos(x), sin(x)]\n",
    "        numberings[vertex] = coords[vertex] * 1.1\n",
    "    end\n",
    "    return DrawResult(coords, numberings)\n",
    "end"
   ]
  },
  {
   "cell_type": "code",
   "execution_count": 1,
   "id": "ffe8dcff",
   "metadata": {},
   "outputs": [
    {
     "ename": "UndefVarError",
     "evalue": "UndefVarError: `layoutcircular` not defined in `Main`\nSuggestion: check for spelling errors or missing imports.",
     "output_type": "error",
     "traceback": [
      "UndefVarError: `layoutcircular` not defined in `Main`\n",
      "Suggestion: check for spelling errors or missing imports.\n",
      "\n",
      "Stacktrace:\n",
      " [1] top-level scope\n",
      "   @ c:\\Users\\Roman\\.julia\\dev\\RNAStructPlot\\demo\\jl_notebook_cell_df34fa98e69747e1a8f8a730347b8e2f_W3sZmlsZQ==.jl:1"
     ]
    }
   ],
   "source": [
    "result = layoutcircular(rnabase)\n",
    "\n",
    "\n",
    "drawgeneric(rnabase, result)"
   ]
  },
  {
   "cell_type": "code",
   "execution_count": null,
   "id": "ba7a3fa9",
   "metadata": {},
   "outputs": [],
   "source": [
    "function draw_bezier(\n",
    "    rnastruct::RNABaseGraph, drawresult::DrawResult;\n",
    "    basecolors=Dict('A' => :red,'G' => :cyan,'C' => :yellow,'U' => :lime),\n",
    "    bondcolor=:red,\n",
    "    showstrength=true,\n",
    "    shownumberings=true,\n",
    "    showstart=true,\n",
    "    precision=16,\n",
    "    curvebend=2\n",
    ")\n",
    "\n",
    "    graph = rnastruct.graph\n",
    "    bases = rnastruct.nucleotides\n",
    "\n",
    "    coords = drawresult.coords\n",
    "    numberings = drawresult.numberings\n",
    "\n",
    "    f = Figure()\n",
    "    ax = Axis(f[1,1], aspect = DataAspect())\n",
    "\n",
    "    # draw edges\n",
    "    for e in edges(graph)\n",
    "        source = sx, sy = coords[src(e)]\n",
    "        desination = dx, dy = coords[dst(e)]\n",
    "\n",
    "        # change style if bases are paired\n",
    "        ispair = haspair(rnastruct, src(e), dst(e))\n",
    "        edgecolor = ispair ? bondcolor : :black\n",
    "        strength = showstrength && ispair ? bondstrength(rnastruct, src(e), dst(e)) : 0\n",
    "\n",
    "        # draw bezier curve\n",
    "        if ispair\n",
    "            mid = (source + (desination - source)/2)/curvebend\n",
    "            bez2 = bezier2(source, mid, desination)\n",
    "\n",
    "            intervals = 16\n",
    "            curvex, curvey = [], []\n",
    "            zerox, zeroy =  bez2(0)\n",
    "            push!(curvex, zerox)\n",
    "            push!(curvey, zeroy)\n",
    "\n",
    "            for i in range(1, intervals)\n",
    "                x = (i-1)/intervals\n",
    "                nextx, nexty = bez2(i/intervals)\n",
    "\n",
    "                push!(curvex, nextx)\n",
    "                push!(curvey, nexty)\n",
    "            end\n",
    "            lines!(curvex, curvey;linestyle=(:dash, strength^1.8), color=edgecolor)\n",
    "        else\n",
    "            lines!([sx, dx], [sy, dy];color=edgecolor)\n",
    "        end\n",
    "    end\n",
    "\n",
    "    # draw vertices with specified coloring\n",
    "    xs = [coords[v][1] for v in vertices(graph)]\n",
    "    ys = [coords[v][2] for v in vertices(graph)]\n",
    "    colors = [basecolors[bases[v]] for v in vertices(graph)]\n",
    "    scatter!(xs, ys, markersize=20, color=colors)\n",
    "\n",
    "    # draw nucleotide base labels\n",
    "    for v in vertices(graph)\n",
    "        text!(coords[v][1], coords[v][2] ,text=string(bases[v]),align=(:center, :center))\n",
    "    end\n",
    "    # draw numbering labels if enabled\n",
    "    if shownumberings\n",
    "        for i in vcat([1], range(0,nv(graph), step=5))\n",
    "            if has_vertex(graph, i) && haskey(coords, i)\n",
    "                text!(numberings[i][1], numberings[i][2],text=string(i),align=(:center, :center))\n",
    "            end\n",
    "        end\n",
    "    end\n",
    "    # draw starting arrow pointing to first base in sequence if enabled\n",
    "    if showstart\n",
    "        curve = bezier1(coords[1], numberings[1])\n",
    "        tipx, tipy = arrowtip = curve(0.3)\n",
    "        tailx, taily = arrowtail = curve(0.8)\n",
    "        arrows2d!([tailx], [taily], [tipx-tailx], [tipy-taily])\n",
    "    end\n",
    "    hidespines!(ax)\n",
    "    hidedecorations!(ax)\n",
    "    current_figure()\n",
    "end\n",
    "\n",
    "draw_bezier(rnabase, result)"
   ]
  }
 ],
 "metadata": {
  "kernelspec": {
   "display_name": "Julia 1.11.5",
   "language": "julia",
   "name": "julia-1.11"
  },
  "language_info": {
   "file_extension": ".jl",
   "mimetype": "application/julia",
   "name": "julia",
   "version": "1.11.5"
  }
 },
 "nbformat": 4,
 "nbformat_minor": 5
}
