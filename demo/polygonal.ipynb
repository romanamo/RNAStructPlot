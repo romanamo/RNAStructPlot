{
 "cells": [
  {
   "cell_type": "code",
   "execution_count": null,
   "id": "6003f16a",
   "metadata": {},
   "outputs": [],
   "source": [
    "using Graphs\n",
    "using RNAStructPlot\n",
    "using CairoMakie\n",
    "\n",
    "sequence = \"CGCUUCAUAUAAUCCUAAUGAUAUGGUUUGGGAGUUUCUACCAAGAGCCUUAAACUCUUGAUUAU\"\n",
    "notation = \"(((((((..((((((.........))))))......).((((((.......))))))..))))))\"\n",
    "\n",
    "# sequence = \"AAAAAAAAAAAAAAAAAA\"\n",
    "# notation = \".((.((((..)).)))).\""
   ]
  },
  {
   "cell_type": "code",
   "execution_count": null,
   "id": "96910909",
   "metadata": {},
   "outputs": [],
   "source": [
    "using RNAStructPlot\n",
    "\n",
    "rnatree = dotbrackettree(sequence, notation)\n",
    "rnabase = dotbracketbase(sequence, notation)\n",
    "\n",
    "coords = drawpolygonal(rnatree)\n",
    "\n",
    "draw_final(rnabase.graph, coords, rnabase.nucleotides, rnabase.pairings)"
   ]
  }
 ],
 "metadata": {
  "kernelspec": {
   "display_name": "Julia 1.11.5",
   "language": "julia",
   "name": "julia-1.11"
  },
  "language_info": {
   "file_extension": ".jl",
   "mimetype": "application/julia",
   "name": "julia",
   "version": "1.11.5"
  }
 },
 "nbformat": 4,
 "nbformat_minor": 5
}
